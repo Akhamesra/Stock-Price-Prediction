{
  "nbformat": 4,
  "nbformat_minor": 0,
  "metadata": {
    "kernelspec": {
      "display_name": "Python 3",
      "language": "python",
      "name": "python3"
    },
    "language_info": {
      "codemirror_mode": {
        "name": "ipython",
        "version": 3
      },
      "file_extension": ".py",
      "mimetype": "text/x-python",
      "name": "python",
      "nbconvert_exporter": "python",
      "pygments_lexer": "ipython3",
      "version": "3.8.3"
    },
    "colab": {
      "name": "Stock.ipynb",
      "provenance": [],
      "collapsed_sections": []
    }
  },
  "cells": [
    {
      "cell_type": "markdown",
      "metadata": {
        "id": "0Ul3iGEj1mih"
      },
      "source": [
        "### Importing the libraries"
      ]
    },
    {
      "cell_type": "code",
      "metadata": {
        "id": "6QdlVVr8v-NQ"
      },
      "source": [
        "import numpy as np\n",
        "import pandas as pd\n",
        "import matplotlib.pyplot as plt\n",
        "import seaborn as sns\n",
        "import datetime as dt\n",
        "import pandas_datareader as web\n",
        "from tensorflow.keras.models import Sequential\n",
        "from tensorflow.keras.layers import LSTM,Dropout,Dense\n",
        "from sklearn.preprocessing import MinMaxScaler\n",
        "%matplotlib inline\n",
        "%reload_ext autoreload\n",
        "%autoreload 2"
      ],
      "execution_count": 1,
      "outputs": []
    },
    {
      "cell_type": "markdown",
      "metadata": {
        "id": "9qv5RL_i111J"
      },
      "source": [
        "### Importing the Data"
      ]
    },
    {
      "cell_type": "code",
      "metadata": {
        "id": "_5EYy2Rhv-Ng"
      },
      "source": [
        "#Start date and end date of out data\n",
        "start = dt.datetime(2012,1,1)\n",
        "end = dt.datetime(2020,1,1)"
      ],
      "execution_count": 2,
      "outputs": []
    },
    {
      "cell_type": "code",
      "metadata": {
        "id": "W9extUGLv-Nj"
      },
      "source": [
        "company =  \"FB\"\n",
        "data = web.DataReader(company,'yahoo', start, end)"
      ],
      "execution_count": 3,
      "outputs": []
    },
    {
      "cell_type": "markdown",
      "metadata": {
        "id": "-srAx9y617X3"
      },
      "source": [
        "## Data Preprocessing"
      ]
    },
    {
      "cell_type": "code",
      "metadata": {
        "colab": {
          "base_uri": "https://localhost:8080/",
          "height": 225
        },
        "id": "qx4vD30hR-l5",
        "outputId": "7e1672dd-0c17-4b8b-bec9-37faacc5a140"
      },
      "source": [
        "data.head()"
      ],
      "execution_count": 4,
      "outputs": [
        {
          "output_type": "execute_result",
          "data": {
            "text/html": [
              "<div>\n",
              "<style scoped>\n",
              "    .dataframe tbody tr th:only-of-type {\n",
              "        vertical-align: middle;\n",
              "    }\n",
              "\n",
              "    .dataframe tbody tr th {\n",
              "        vertical-align: top;\n",
              "    }\n",
              "\n",
              "    .dataframe thead th {\n",
              "        text-align: right;\n",
              "    }\n",
              "</style>\n",
              "<table border=\"1\" class=\"dataframe\">\n",
              "  <thead>\n",
              "    <tr style=\"text-align: right;\">\n",
              "      <th></th>\n",
              "      <th>High</th>\n",
              "      <th>Low</th>\n",
              "      <th>Open</th>\n",
              "      <th>Close</th>\n",
              "      <th>Volume</th>\n",
              "      <th>Adj Close</th>\n",
              "    </tr>\n",
              "    <tr>\n",
              "      <th>Date</th>\n",
              "      <th></th>\n",
              "      <th></th>\n",
              "      <th></th>\n",
              "      <th></th>\n",
              "      <th></th>\n",
              "      <th></th>\n",
              "    </tr>\n",
              "  </thead>\n",
              "  <tbody>\n",
              "    <tr>\n",
              "      <th>2012-05-18</th>\n",
              "      <td>45.000000</td>\n",
              "      <td>38.000000</td>\n",
              "      <td>42.049999</td>\n",
              "      <td>38.230000</td>\n",
              "      <td>573576400</td>\n",
              "      <td>38.230000</td>\n",
              "    </tr>\n",
              "    <tr>\n",
              "      <th>2012-05-21</th>\n",
              "      <td>36.660000</td>\n",
              "      <td>33.000000</td>\n",
              "      <td>36.529999</td>\n",
              "      <td>34.029999</td>\n",
              "      <td>168192700</td>\n",
              "      <td>34.029999</td>\n",
              "    </tr>\n",
              "    <tr>\n",
              "      <th>2012-05-22</th>\n",
              "      <td>33.590000</td>\n",
              "      <td>30.940001</td>\n",
              "      <td>32.610001</td>\n",
              "      <td>31.000000</td>\n",
              "      <td>101786600</td>\n",
              "      <td>31.000000</td>\n",
              "    </tr>\n",
              "    <tr>\n",
              "      <th>2012-05-23</th>\n",
              "      <td>32.500000</td>\n",
              "      <td>31.360001</td>\n",
              "      <td>31.370001</td>\n",
              "      <td>32.000000</td>\n",
              "      <td>73600000</td>\n",
              "      <td>32.000000</td>\n",
              "    </tr>\n",
              "    <tr>\n",
              "      <th>2012-05-24</th>\n",
              "      <td>33.209999</td>\n",
              "      <td>31.770000</td>\n",
              "      <td>32.950001</td>\n",
              "      <td>33.029999</td>\n",
              "      <td>50237200</td>\n",
              "      <td>33.029999</td>\n",
              "    </tr>\n",
              "  </tbody>\n",
              "</table>\n",
              "</div>"
            ],
            "text/plain": [
              "                 High        Low       Open      Close     Volume  Adj Close\n",
              "Date                                                                        \n",
              "2012-05-18  45.000000  38.000000  42.049999  38.230000  573576400  38.230000\n",
              "2012-05-21  36.660000  33.000000  36.529999  34.029999  168192700  34.029999\n",
              "2012-05-22  33.590000  30.940001  32.610001  31.000000  101786600  31.000000\n",
              "2012-05-23  32.500000  31.360001  31.370001  32.000000   73600000  32.000000\n",
              "2012-05-24  33.209999  31.770000  32.950001  33.029999   50237200  33.029999"
            ]
          },
          "metadata": {
            "tags": []
          },
          "execution_count": 4
        }
      ]
    },
    {
      "cell_type": "code",
      "metadata": {
        "colab": {
          "base_uri": "https://localhost:8080/"
        },
        "id": "lVjvK-IbSowC",
        "outputId": "3b69eecb-66e3-4ff4-9c07-661ea0ea30e0"
      },
      "source": [
        "data.isnull().sum()"
      ],
      "execution_count": 5,
      "outputs": [
        {
          "output_type": "execute_result",
          "data": {
            "text/plain": [
              "High         0\n",
              "Low          0\n",
              "Open         0\n",
              "Close        0\n",
              "Volume       0\n",
              "Adj Close    0\n",
              "dtype: int64"
            ]
          },
          "metadata": {
            "tags": []
          },
          "execution_count": 5
        }
      ]
    },
    {
      "cell_type": "code",
      "metadata": {
        "colab": {
          "base_uri": "https://localhost:8080/",
          "height": 530
        },
        "id": "UbsnF5hmv-Nz",
        "outputId": "f5cb70ee-9d72-43ef-b826-89dd3da3a91b"
      },
      "source": [
        "plt.figure(figsize=(20,8))\n",
        "plt.plot(data[\"Close\"])\n",
        "plt.xlabel('Year')\n",
        "plt.ylabel('Price')\n",
        "plt.title(\"Company Close Price history\")"
      ],
      "execution_count": 6,
      "outputs": [
        {
          "output_type": "execute_result",
          "data": {
            "text/plain": [
              "Text(0.5, 1.0, 'Company Close Price history')"
            ]
          },
          "metadata": {
            "tags": []
          },
          "execution_count": 6
        },
        {
          "output_type": "display_data",
          "data": {
            "image/png": "[encoded data removed]",
            "text/plain": [
              "<Figure size 1440x576 with 1 Axes>"
            ]
          },
          "metadata": {
            "tags": [],
            "needs_background": "light"
          }
        }
      ]
    },
    {
      "cell_type": "code",
      "metadata": {
        "id": "Qk7ScEh8v-Nl"
      },
      "source": [
        "#Scaling the data\n",
        "scaler = MinMaxScaler(feature_range=(0,1))\n",
        "scaled_data = scaler.fit_transform(data['Close'].values.reshape(-1,1))"
      ],
      "execution_count": 7,
      "outputs": []
    },
    {
      "cell_type": "code",
      "metadata": {
        "id": "rntWsGzBv-Nm",
        "colab": {
          "base_uri": "https://localhost:8080/"
        },
        "outputId": "be74cf06-6e8e-4c40-e271-9c55eba60673"
      },
      "source": [
        "scaled_data"
      ],
      "execution_count": 8,
      "outputs": [
        {
          "output_type": "execute_result",
          "data": {
            "text/plain": [
              "array([[0.10261801],\n",
              "       [0.08159383],\n",
              "       [0.06642639],\n",
              "       ...,\n",
              "       [0.95294592],\n",
              "       [0.93447466],\n",
              "       [0.93867948]])"
            ]
          },
          "metadata": {
            "tags": []
          },
          "execution_count": 8
        }
      ]
    },
    {
      "cell_type": "code",
      "metadata": {
        "id": "EwPokp0Yv-N1"
      },
      "source": [
        "prediction_days = 60"
      ],
      "execution_count": 9,
      "outputs": []
    },
    {
      "cell_type": "code",
      "metadata": {
        "id": "E36RSgJ3v-OZ"
      },
      "source": [
        "x_train, y_train = [], []\n",
        "for x in range(prediction_days,len(scaled_data)):\n",
        "  x_train.append(scaled_data[x-prediction_days:x,0])\n",
        "  y_train.append(scaled_data[x,0])"
      ],
      "execution_count": 10,
      "outputs": []
    },
    {
      "cell_type": "code",
      "metadata": {
        "colab": {
          "base_uri": "https://localhost:8080/"
        },
        "id": "XaQCxcmBTp_G",
        "outputId": "4e249828-5bcf-459f-c945-b894f066139e"
      },
      "source": [
        "print(x_train[:3])"
      ],
      "execution_count": 11,
      "outputs": [
        {
          "output_type": "stream",
          "text": [
            "[array([0.10261801, 0.08159383, 0.06642639, 0.07143215, 0.07658807,\n",
            "       0.07098163, 0.05561396, 0.05236022, 0.05941834, 0.05000751,\n",
            "       0.04590279, 0.04074687, 0.04545227, 0.04294939, 0.04690394,\n",
            "       0.04645342, 0.04840567, 0.04775492, 0.0528608 , 0.06147069,\n",
            "       0.06847875, 0.07098163, 0.06942985, 0.07063123, 0.07668819,\n",
            "       0.0717325 , 0.07693847, 0.07258347, 0.06822847, 0.06692697,\n",
            "       0.06527507, 0.06742755, 0.06877909, 0.07008059, 0.07228312,\n",
            "       0.06877909, 0.06627622, 0.0654753 , 0.06502478, 0.05266056,\n",
            "       0.05185964, 0.05696552, 0.05641488, 0.0552135 , 0.05516344,\n",
            "       0.05366172, 0.05811684, 0.0456525 , 0.02993442, 0.0271312 ,\n",
            "       0.01992291, 0.01576813, 0.0115633 , 0.01681935, 0.02097412,\n",
            "       0.01496721, 0.01496721, 0.01641889, 0.02042349, 0.01937228]), array([0.08159383, 0.06642639, 0.07143215, 0.07658807, 0.07098163,\n",
            "       0.05561396, 0.05236022, 0.05941834, 0.05000751, 0.04590279,\n",
            "       0.04074687, 0.04545227, 0.04294939, 0.04690394, 0.04645342,\n",
            "       0.04840567, 0.04775492, 0.0528608 , 0.06147069, 0.06847875,\n",
            "       0.07098163, 0.06942985, 0.07063123, 0.07668819, 0.0717325 ,\n",
            "       0.07693847, 0.07258347, 0.06822847, 0.06692697, 0.06527507,\n",
            "       0.06742755, 0.06877909, 0.07008059, 0.07228312, 0.06877909,\n",
            "       0.06627622, 0.0654753 , 0.06502478, 0.05266056, 0.05185964,\n",
            "       0.05696552, 0.05641488, 0.0552135 , 0.05516344, 0.05366172,\n",
            "       0.05811684, 0.0456525 , 0.02993442, 0.0271312 , 0.01992291,\n",
            "       0.01576813, 0.0115633 , 0.01681935, 0.02097412, 0.01496721,\n",
            "       0.01496721, 0.01641889, 0.02042349, 0.01937228, 0.01326525]), array([0.06642639, 0.07143215, 0.07658807, 0.07098163, 0.05561396,\n",
            "       0.05236022, 0.05941834, 0.05000751, 0.04590279, 0.04074687,\n",
            "       0.04545227, 0.04294939, 0.04690394, 0.04645342, 0.04840567,\n",
            "       0.04775492, 0.0528608 , 0.06147069, 0.06847875, 0.07098163,\n",
            "       0.06942985, 0.07063123, 0.07668819, 0.0717325 , 0.07693847,\n",
            "       0.07258347, 0.06822847, 0.06692697, 0.06527507, 0.06742755,\n",
            "       0.06877909, 0.07008059, 0.07228312, 0.06877909, 0.06627622,\n",
            "       0.0654753 , 0.06502478, 0.05266056, 0.05185964, 0.05696552,\n",
            "       0.05641488, 0.0552135 , 0.05516344, 0.05366172, 0.05811684,\n",
            "       0.0456525 , 0.02993442, 0.0271312 , 0.01992291, 0.01576813,\n",
            "       0.0115633 , 0.01681935, 0.02097412, 0.01496721, 0.01496721,\n",
            "       0.01641889, 0.02042349, 0.01937228, 0.01326525, 0.01736998])]\n"
          ],
          "name": "stdout"
        }
      ]
    },
    {
      "cell_type": "code",
      "metadata": {
        "id": "J1GE6m35TqBb"
      },
      "source": [
        "x_train, y_train = np.array(x_train), np.array(y_train)"
      ],
      "execution_count": 12,
      "outputs": []
    },
    {
      "cell_type": "code",
      "metadata": {
        "colab": {
          "base_uri": "https://localhost:8080/"
        },
        "id": "nxFCwLuQVUMx",
        "outputId": "69baf2f8-853e-4512-94d2-6d9adc158472"
      },
      "source": [
        "x_train.shape"
      ],
      "execution_count": 13,
      "outputs": [
        {
          "output_type": "execute_result",
          "data": {
            "text/plain": [
              "(1857, 60)"
            ]
          },
          "metadata": {
            "tags": []
          },
          "execution_count": 13
        }
      ]
    },
    {
      "cell_type": "code",
      "metadata": {
        "id": "1hpS43yrTqD_"
      },
      "source": [
        "x_train = np.reshape(x_train,(x_train.shape[0],x_train.shape[1],1))"
      ],
      "execution_count": 14,
      "outputs": []
    },
    {
      "cell_type": "markdown",
      "metadata": {
        "id": "ri5zI90M2Dev"
      },
      "source": [
        "## Building the CNN"
      ]
    },
    {
      "cell_type": "code",
      "metadata": {
        "colab": {
          "base_uri": "https://localhost:8080/"
        },
        "id": "rAMYP_ZXlpJX",
        "outputId": "1a061dfa-443d-4b38-ada5-2c2695c5d6bf"
      },
      "source": [
        "ann = Sequential()\n",
        "ann.add(LSTM(units=50, return_sequences=True, input_shape=(x_train.shape[1],1)))\n",
        "ann.add(Dropout(0.2))\n",
        "ann.add(LSTM(units=50, return_sequences=True))\n",
        "ann.add(Dropout(0.2))\n",
        "ann.add(LSTM(units=50))\n",
        "ann.add(Dropout(0.2))\n",
        "ann.add(Dense(units=1))\n",
        "ann.compile(optimizer='adam', loss='mean_squared_error')\n",
        "ann.fit(x_train, y_train, epochs =25, batch_size=32)"
      ],
      "execution_count": 15,
      "outputs": [
        {
          "output_type": "stream",
          "text": [
            "Epoch 1/25\n",
            "59/59 [==============================] - 9s 77ms/step - loss: 0.0611\n",
            "Epoch 2/25\n",
            "59/59 [==============================] - 5s 82ms/step - loss: 0.0042\n",
            "Epoch 3/25\n",
            "59/59 [==============================] - 5s 82ms/step - loss: 0.0040\n",
            "Epoch 4/25\n",
            "59/59 [==============================] - 5s 81ms/step - loss: 0.0045\n",
            "Epoch 5/25\n",
            "59/59 [==============================] - 5s 80ms/step - loss: 0.0035\n",
            "Epoch 6/25\n",
            "59/59 [==============================] - 5s 78ms/step - loss: 0.0037\n",
            "Epoch 7/25\n",
            "59/59 [==============================] - 5s 78ms/step - loss: 0.0029\n",
            "Epoch 8/25\n",
            "59/59 [==============================] - 5s 77ms/step - loss: 0.0050\n",
            "Epoch 9/25\n",
            "59/59 [==============================] - 5s 78ms/step - loss: 0.0031\n",
            "Epoch 10/25\n",
            "59/59 [==============================] - 5s 78ms/step - loss: 0.0027\n",
            "Epoch 11/25\n",
            "59/59 [==============================] - 5s 78ms/step - loss: 0.0028\n",
            "Epoch 12/25\n",
            "59/59 [==============================] - 5s 78ms/step - loss: 0.0023\n",
            "Epoch 13/25\n",
            "59/59 [==============================] - 5s 77ms/step - loss: 0.0028\n",
            "Epoch 14/25\n",
            "59/59 [==============================] - 5s 78ms/step - loss: 0.0027\n",
            "Epoch 15/25\n",
            "59/59 [==============================] - 5s 78ms/step - loss: 0.0027\n",
            "Epoch 16/25\n",
            "59/59 [==============================] - 5s 77ms/step - loss: 0.0027\n",
            "Epoch 17/25\n",
            "59/59 [==============================] - 5s 77ms/step - loss: 0.0022\n",
            "Epoch 18/25\n",
            "59/59 [==============================] - 5s 78ms/step - loss: 0.0021\n",
            "Epoch 19/25\n",
            "59/59 [==============================] - 5s 77ms/step - loss: 0.0022\n",
            "Epoch 20/25\n",
            "59/59 [==============================] - 4s 75ms/step - loss: 0.0020\n",
            "Epoch 21/25\n",
            "59/59 [==============================] - 4s 75ms/step - loss: 0.0020\n",
            "Epoch 22/25\n",
            "59/59 [==============================] - 4s 74ms/step - loss: 0.0022\n",
            "Epoch 23/25\n",
            "59/59 [==============================] - 4s 75ms/step - loss: 0.0020\n",
            "Epoch 24/25\n",
            "59/59 [==============================] - 4s 75ms/step - loss: 0.0018\n",
            "Epoch 25/25\n",
            "59/59 [==============================] - 4s 75ms/step - loss: 0.0019\n"
          ],
          "name": "stdout"
        },
        {
          "output_type": "execute_result",
          "data": {
            "text/plain": [
              "<tensorflow.python.keras.callbacks.History at 0x7fe9cf424890>"
            ]
          },
          "metadata": {
            "tags": []
          },
          "execution_count": 15
        }
      ]
    },
    {
      "cell_type": "markdown",
      "metadata": {
        "id": "9tgwn3hm34qR"
      },
      "source": [
        "## Testing the model"
      ]
    },
    {
      "cell_type": "markdown",
      "metadata": {
        "id": "sA0EPpg34PUR"
      },
      "source": [
        "### Importing  test data"
      ]
    },
    {
      "cell_type": "code",
      "metadata": {
        "id": "-IDvu5GWnY5o"
      },
      "source": [
        "test_start = dt.datetime(2020,1,1)\n",
        "test_end = dt.datetime.now()"
      ],
      "execution_count": 16,
      "outputs": []
    },
    {
      "cell_type": "code",
      "metadata": {
        "id": "5V3gh3A-nVUT"
      },
      "source": [
        "test_data = web.DataReader(company, 'yahoo', test_start, test_end)"
      ],
      "execution_count": 17,
      "outputs": []
    },
    {
      "cell_type": "markdown",
      "metadata": {
        "id": "w33jzHlz4gvx"
      },
      "source": [
        "### Preprocessing test Data"
      ]
    },
    {
      "cell_type": "code",
      "metadata": {
        "id": "wX4jTsmIn6k4"
      },
      "source": [
        "actual_price = test_data['Close'].values"
      ],
      "execution_count": 18,
      "outputs": []
    },
    {
      "cell_type": "code",
      "metadata": {
        "id": "XEXB9-CloUH3"
      },
      "source": [
        "total_dataset = pd.concat((data['Close'], test_data['Close']), axis = 0)"
      ],
      "execution_count": 19,
      "outputs": []
    },
    {
      "cell_type": "code",
      "metadata": {
        "colab": {
          "base_uri": "https://localhost:8080/"
        },
        "id": "Wlurt3mgoqRY",
        "outputId": "81f43ed2-5341-48f2-a54c-9be4e084098d"
      },
      "source": [
        "data[\"Close\"].shape"
      ],
      "execution_count": 20,
      "outputs": [
        {
          "output_type": "execute_result",
          "data": {
            "text/plain": [
              "(1917,)"
            ]
          },
          "metadata": {
            "tags": []
          },
          "execution_count": 20
        }
      ]
    },
    {
      "cell_type": "code",
      "metadata": {
        "colab": {
          "base_uri": "https://localhost:8080/"
        },
        "id": "1Ae9ridao4Pf",
        "outputId": "ffcb3850-4fbe-4267-ab59-80a15a3fe369"
      },
      "source": [
        "test_data[\"Close\"].shape"
      ],
      "execution_count": 21,
      "outputs": [
        {
          "output_type": "execute_result",
          "data": {
            "text/plain": [
              "(316,)"
            ]
          },
          "metadata": {
            "tags": []
          },
          "execution_count": 21
        }
      ]
    },
    {
      "cell_type": "code",
      "metadata": {
        "colab": {
          "base_uri": "https://localhost:8080/"
        },
        "id": "C5LKeodko8hJ",
        "outputId": "1fd0293c-a7a7-40fd-eecd-cdc3b16b08cc"
      },
      "source": [
        "total_dataset.shape"
      ],
      "execution_count": 22,
      "outputs": [
        {
          "output_type": "execute_result",
          "data": {
            "text/plain": [
              "(2233,)"
            ]
          },
          "metadata": {
            "tags": []
          },
          "execution_count": 22
        }
      ]
    },
    {
      "cell_type": "code",
      "metadata": {
        "id": "EuPN_sHIpA3r"
      },
      "source": [
        "model_input = total_dataset[len(total_dataset) - len(test_data) - prediction_days :].values"
      ],
      "execution_count": 23,
      "outputs": []
    },
    {
      "cell_type": "code",
      "metadata": {
        "colab": {
          "base_uri": "https://localhost:8080/"
        },
        "id": "4ZYEHi7xpmor",
        "outputId": "ca77ca63-ce79-42ab-cc0c-acb03d0ecb77"
      },
      "source": [
        "model_input[:5]"
      ],
      "execution_count": 24,
      "outputs": [
        {
          "output_type": "execute_result",
          "data": {
            "text/plain": [
              "array([179.67999268, 177.75      , 179.8500061 , 180.02999878,\n",
              "       184.19000244])"
            ]
          },
          "metadata": {
            "tags": []
          },
          "execution_count": 24
        }
      ]
    },
    {
      "cell_type": "code",
      "metadata": {
        "id": "6kqJTm5mpomv"
      },
      "source": [
        "model_input = total_dataset[len(data['Close'])- prediction_days :].values"
      ],
      "execution_count": 25,
      "outputs": []
    },
    {
      "cell_type": "code",
      "metadata": {
        "id": "wjNdzDunpzjY"
      },
      "source": [
        "model_input = model_input.reshape(-1,1)"
      ],
      "execution_count": 26,
      "outputs": []
    },
    {
      "cell_type": "code",
      "metadata": {
        "id": "XvEbCLDGp6h4"
      },
      "source": [
        "model_input  = scaler.transform(model_input)"
      ],
      "execution_count": 27,
      "outputs": []
    },
    {
      "cell_type": "code",
      "metadata": {
        "id": "bbRdWQpbqM4c"
      },
      "source": [
        "x_test = []\n",
        "for x in range(prediction_days, len(model_input)):\n",
        "  x_test.append(model_input[x-prediction_days:x,0])\n",
        "x_test = np.array(x_test)\n",
        "x_test = np.reshape(x_test, (x_test.shape[0], x_test.shape[1],1))"
      ],
      "execution_count": 28,
      "outputs": []
    },
    {
      "cell_type": "markdown",
      "metadata": {
        "id": "mfHn5Qs54yBk"
      },
      "source": [
        "### Predicting"
      ]
    },
    {
      "cell_type": "code",
      "metadata": {
        "id": "cqDjNmQLrEzD"
      },
      "source": [
        "predicted_price = ann.predict(x_test)\n",
        "predicted_price = scaler.inverse_transform(predicted_price)"
      ],
      "execution_count": 29,
      "outputs": []
    },
    {
      "cell_type": "code",
      "metadata": {
        "colab": {
          "base_uri": "https://localhost:8080/",
          "height": 404
        },
        "id": "myQEX6QcrYZP",
        "outputId": "71e899d9-f5bc-45d1-bd0a-a849969e1423"
      },
      "source": [
        "plt.figure(figsize=(20,6))\n",
        "plt.plot(actual_price, color = 'black', label = f'Actual {company} Price')\n",
        "plt.plot(predicted_price, color = 'green', label = f'Predicted {company} Price')\n",
        "plt.title(f'{company} Share Price')\n",
        "plt.xlabel('Time')\n",
        "plt.ylabel('Price')\n",
        "plt.legend()\n",
        "plt.show()"
      ],
      "execution_count": 30,
      "outputs": [
        {
          "output_type": "display_data",
          "data": {
            "image/png": "[encoded data removed]",
            "text/plain": [
              "<Figure size 1440x432 with 1 Axes>"
            ]
          },
          "metadata": {
            "tags": [],
            "needs_background": "light"
          }
        }
      ]
    },
    {
      "cell_type": "markdown",
      "metadata": {
        "id": "2IbHbBSLxsHs"
      },
      "source": [
        "## Predict the next day Price"
      ]
    },
    {
      "cell_type": "code",
      "metadata": {
        "id": "B2ZTe-v3vX42"
      },
      "source": [
        "real_data = [model_input[len(model_input) +1 - prediction_days:len(model_input+1),0]]"
      ],
      "execution_count": 31,
      "outputs": []
    },
    {
      "cell_type": "code",
      "metadata": {
        "id": "uZ0x4ub9xvhN"
      },
      "source": [
        "real_data = np.array(real_data)"
      ],
      "execution_count": 32,
      "outputs": []
    },
    {
      "cell_type": "code",
      "metadata": {
        "id": "JiBqrVwBzBRE"
      },
      "source": [
        "real_data = np.reshape(real_data, (real_data.shape[0],real_data.shape[1],1))"
      ],
      "execution_count": 33,
      "outputs": []
    },
    {
      "cell_type": "code",
      "metadata": {
        "id": "GUJV6i33zZ3X"
      },
      "source": [
        "prediction = ann.predict(real_data)"
      ],
      "execution_count": 37,
      "outputs": []
    },
    {
      "cell_type": "code",
      "metadata": {
        "id": "h0IPd5VaznGD"
      },
      "source": [
        "prediction = scaler.inverse_transform(prediction)"
      ],
      "execution_count": 35,
      "outputs": []
    },
    {
      "cell_type": "code",
      "metadata": {
        "colab": {
          "base_uri": "https://localhost:8080/"
        },
        "id": "ZbLcvS-o0r0j",
        "outputId": "a190220b-1325-4371-f53d-f51abb277d9c"
      },
      "source": [
        "print(f\"Predicted Closing Stock price of {company} on {dt.date.today() + dt.timedelta(days=1)} is : {prediction[0][0]} Rs\")"
      ],
      "execution_count": 36,
      "outputs": [
        {
          "output_type": "stream",
          "text": [
            "Predicted Closing Stock price of FB on 2021-04-07 is : 267.7755126953125 Rs\n"
          ],
          "name": "stdout"
        }
      ]
    }
  ]
}